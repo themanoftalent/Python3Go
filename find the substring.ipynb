{
  "nbformat": 4,
  "nbformat_minor": 0,
  "metadata": {
    "colab": {
      "name": "Untitled5.ipynb",
      "provenance": [],
      "collapsed_sections": [],
      "authorship_tag": "ABX9TyN+0L6yRHJuOT1IsporP5aI",
      "include_colab_link": true
    },
    "kernelspec": {
      "name": "python3",
      "display_name": "Python 3"
    }
  },
  "cells": [
    {
      "cell_type": "markdown",
      "metadata": {
        "id": "view-in-github",
        "colab_type": "text"
      },
      "source": [
        "<a href=\"https://colab.research.google.com/github/themanoftalent/Python3Go/blob/master/find%20the%20substring.ipynb\" target=\"_parent\"><img src=\"https://colab.research.google.com/assets/colab-badge.svg\" alt=\"Open In Colab\"/></a>"
      ]
    },
    {
      "cell_type": "code",
      "metadata": {
        "id": "T9kctgAjpJOY",
        "colab": {
          "base_uri": "https://localhost:8080/"
        },
        "outputId": "9023fe09-7c71-4d44-cd05-762af144a681"
      },
      "source": [
        "def sub_string(str1,str2):\r\n",
        "  m1= len(str1)\r\n",
        "  m2= len(str2)\r\n",
        "  \r\n",
        "  \r\n",
        "  i,j=0,0\r\n",
        "  \r\n",
        "  while j<m1 and i<m2:\r\n",
        "    \r\n",
        "    if str1[j] == str2[i]:\r\n",
        "      i=j+1\r\n",
        "    j=j+1\r\n",
        "  return i==m1\r\n",
        "\r\n",
        "\r\n",
        "\r\n",
        "\r\n",
        "str1=\"hayır\"\r\n",
        "str2=\"akifheyhey\"\r\n",
        "\r\n",
        "print(\"Yes\" if sub_string(str1,str2) else \"no\")"
      ],
      "execution_count": 13,
      "outputs": [
        {
          "output_type": "stream",
          "text": [
            "no\n"
          ],
          "name": "stdout"
        }
      ]
    },
    {
      "cell_type": "code",
      "metadata": {
        "id": "8fbRlNoyoVk6"
      },
      "source": [
        ""
      ],
      "execution_count": null,
      "outputs": []
    }
  ]
}